{
 "cells": [
  {
   "cell_type": "code",
   "execution_count": 5,
   "metadata": {},
   "outputs": [],
   "source": [
    "from datetime import datetime \n",
    "\n",
    "now = datetime.utcnow().strftime(\"%Y%m%d%H%M%S\")\n",
    "root_logdir = \"tf_logs\"\n",
    "logdir = \"{}/ run-{}/\".format(root_logdir, now)"
   ]
  },
  {
   "cell_type": "code",
   "execution_count": 1,
   "metadata": {},
   "outputs": [],
   "source": [
    "import tensorflow as tf\n",
    "import numpy as np\n",
    "\n",
    "n_inputs = 28*28\n",
    "n_hidden1 = 300\n",
    "n_hidden2 = 100\n",
    "n_outputs = 10\n",
    "\n",
    "X = tf.placeholder(tf.float32, shape=(None, n_inputs), name=\"X\")\n",
    "y = tf.placeholder(tf.int64, shape=(None), name=\"y\")\n",
    "\n",
    "def neuron_layer(X, n_neurons, name, activation=None):\n",
    "    with tf.name_scope(name):\n",
    "        n_inputs = int(X.get_shape()[1])\n",
    "        stddev = 2 / np.sqrt(n_inputs + n_neurons)\n",
    "        init = tf.truncated_normal((n_inputs, n_neurons), stddev=stddev)\n",
    "        W = tf.Variable(init, name=\"kernel\")\n",
    "        b = tf.Variable(tf.zeros([n_neurons]), name=\"bias\")\n",
    "        Z = tf.matmul(X, W) + b\n",
    "        if activation is not None:\n",
    "            return activation(Z)\n",
    "        else:\n",
    "            return Z\n",
    "        \n",
    "with tf.name_scope(\"dnn\"):\n",
    "    hidden1 = neuron_layer(X, n_hidden1, name=\"hidden1\", activation=tf.nn.relu)\n",
    "    hidden2 = neuron_layer(hidden1, n_hidden2, name=\"hidden2\", activation=tf.nn.relu)\n",
    "    logits = neuron_layer(hidden2, n_outputs, name=\"outputs\")\n",
    "    \n",
    "with tf.name_scope(\"loss\"):\n",
    "    xentropy = tf.nn.sparse_softmax_cross_entropy_with_logits(labels=y, logits=logits)\n",
    "    loss = tf.reduce_mean(xentropy, name=\"loss\")\n",
    "    \n",
    "learning_rate = 0.01\n",
    "with tf.name_scope(\"train\"):\n",
    "    optimizer = tf.train.GradientDescentOptimizer(learning_rate)\n",
    "    training_op = optimizer.minimize(loss)\n",
    "    \n",
    "with tf.name_scope(\"eval\"):\n",
    "    correct = tf.nn.in_top_k(logits, y, 1)\n",
    "    accuracy = tf.reduce_mean(tf.cast(correct, tf.float32))\n",
    "    \n",
    "init = tf.global_variables_initializer()\n",
    "saver = tf.train.Saver()"
   ]
  },
  {
   "cell_type": "code",
   "execution_count": 2,
   "metadata": {},
   "outputs": [
    {
     "name": "stdout",
     "output_type": "stream",
     "text": [
      "Extracting /tmp/data\\train-images-idx3-ubyte.gz\n",
      "Extracting /tmp/data\\train-labels-idx1-ubyte.gz\n",
      "Extracting /tmp/data\\t10k-images-idx3-ubyte.gz\n",
      "Extracting /tmp/data\\t10k-labels-idx1-ubyte.gz\n",
      "0 Train accuracy: 0.84 Val accuracy: 0.9102\n",
      "1 Train accuracy: 0.96 Val accuracy: 0.9314\n",
      "2 Train accuracy: 0.94 Val accuracy: 0.9396\n",
      "3 Train accuracy: 0.98 Val accuracy: 0.9496\n",
      "4 Train accuracy: 0.98 Val accuracy: 0.9522\n",
      "5 Train accuracy: 0.96 Val accuracy: 0.9562\n",
      "6 Train accuracy: 0.96 Val accuracy: 0.9606\n",
      "7 Train accuracy: 0.98 Val accuracy: 0.9622\n",
      "8 Train accuracy: 0.98 Val accuracy: 0.9642\n",
      "9 Train accuracy: 0.94 Val accuracy: 0.9666\n",
      "10 Train accuracy: 0.98 Val accuracy: 0.9666\n",
      "11 Train accuracy: 0.98 Val accuracy: 0.9698\n",
      "12 Train accuracy: 1.0 Val accuracy: 0.9702\n",
      "13 Train accuracy: 0.96 Val accuracy: 0.9702\n",
      "14 Train accuracy: 0.98 Val accuracy: 0.9716\n",
      "15 Train accuracy: 1.0 Val accuracy: 0.9724\n",
      "16 Train accuracy: 0.98 Val accuracy: 0.974\n",
      "17 Train accuracy: 1.0 Val accuracy: 0.9738\n",
      "18 Train accuracy: 1.0 Val accuracy: 0.9744\n",
      "19 Train accuracy: 0.98 Val accuracy: 0.975\n",
      "20 Train accuracy: 0.98 Val accuracy: 0.9752\n",
      "21 Train accuracy: 1.0 Val accuracy: 0.975\n",
      "22 Train accuracy: 0.98 Val accuracy: 0.976\n",
      "23 Train accuracy: 0.98 Val accuracy: 0.9766\n",
      "24 Train accuracy: 1.0 Val accuracy: 0.976\n",
      "25 Train accuracy: 1.0 Val accuracy: 0.977\n",
      "26 Train accuracy: 1.0 Val accuracy: 0.9776\n",
      "27 Train accuracy: 1.0 Val accuracy: 0.9782\n",
      "28 Train accuracy: 1.0 Val accuracy: 0.979\n",
      "29 Train accuracy: 0.98 Val accuracy: 0.9782\n",
      "30 Train accuracy: 0.98 Val accuracy: 0.9794\n",
      "31 Train accuracy: 1.0 Val accuracy: 0.9788\n",
      "32 Train accuracy: 1.0 Val accuracy: 0.9778\n",
      "33 Train accuracy: 0.98 Val accuracy: 0.9792\n",
      "34 Train accuracy: 1.0 Val accuracy: 0.9798\n",
      "35 Train accuracy: 1.0 Val accuracy: 0.9796\n",
      "36 Train accuracy: 1.0 Val accuracy: 0.9794\n",
      "37 Train accuracy: 0.96 Val accuracy: 0.9794\n",
      "38 Train accuracy: 1.0 Val accuracy: 0.9796\n",
      "39 Train accuracy: 1.0 Val accuracy: 0.9792\n"
     ]
    }
   ],
   "source": [
    "from tensorflow.examples.tutorials.mnist import input_data\n",
    "\n",
    "mnist = input_data.read_data_sets(\"/tmp/data\")\n",
    "\n",
    "n_epochs = 40\n",
    "batch_size = 50\n",
    "\n",
    "with tf.Session() as sess:\n",
    "    init.run()\n",
    "    for epoch in range(n_epochs):\n",
    "        for iteration in range(mnist.train.num_examples // batch_size):\n",
    "            X_batch, y_batch = mnist.train.next_batch(batch_size)\n",
    "            sess.run(training_op, feed_dict={X:X_batch, y:y_batch})\n",
    "        acc_train = accuracy.eval(feed_dict={X:X_batch, y:y_batch})\n",
    "        acc_val = accuracy.eval(feed_dict={X:mnist.validation.images, y:mnist.validation.labels})\n",
    "        print(epoch, \"Train accuracy:\", acc_train, \"Val accuracy:\", acc_val)\n",
    "    save_path = saver.save(sess, \"./my_model_final.ckpt\")"
   ]
  },
  {
   "cell_type": "code",
   "execution_count": 33,
   "metadata": {},
   "outputs": [
    {
     "name": "stdout",
     "output_type": "stream",
     "text": [
      "INFO:tensorflow:Restoring parameters from ./my_model_final.ckpt\n"
     ]
    }
   ],
   "source": [
    "# load the kaggle test now and see what we get\n",
    "import os\n",
    "import pandas as pd\n",
    "\n",
    "MNIST_PATH = os.path.join(\"datasets\", \"mnist\")\n",
    "\n",
    "def load_mnist_dataset():\n",
    "    csv_path = os.path.join(MNIST_PATH, \"kaggle_mnist_test.csv\")\n",
    "    return pd.read_csv(csv_path)\n",
    "\n",
    "X_train = load_mnist_dataset().as_matrix()\n",
    "\n",
    "normalizer = lambda x: x / 256.0\n",
    "X_train_scaled = normalizer(X_train)\n",
    "y_pred = []\n",
    "\n",
    "for i in range(len(X_train_scaled)):\n",
    "    y_pred.append(0)\n",
    "\n",
    "# just load the model and run\n",
    "with tf.Session() as sess:\n",
    "    saver.restore(sess, \"./my_model_final.ckpt\")\n",
    "    for i in range(len(X_train_scaled)):\n",
    "        Z = logits.eval(feed_dict={X: [X_train_scaled[i]]})\n",
    "        y_pred[i] = np.argmax(Z, axis=1)[0]"
   ]
  },
  {
   "cell_type": "code",
   "execution_count": 36,
   "metadata": {},
   "outputs": [],
   "source": [
    "df = pd.DataFrame(data = {'ImageId':np.arange(1, len(X_train_scaled) + 1, 1), 'Label':y_pred})\n",
    "df.to_csv('test.csv', index=False)"
   ]
  }
 ],
 "metadata": {
  "kernelspec": {
   "display_name": "Python (HandsOnML)",
   "language": "python",
   "name": "handsonml"
  },
  "language_info": {
   "codemirror_mode": {
    "name": "ipython",
    "version": 3
   },
   "file_extension": ".py",
   "mimetype": "text/x-python",
   "name": "python",
   "nbconvert_exporter": "python",
   "pygments_lexer": "ipython3",
   "version": "3.6.4"
  }
 },
 "nbformat": 4,
 "nbformat_minor": 2
}
