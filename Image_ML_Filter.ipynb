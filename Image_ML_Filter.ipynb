{
 "cells": [
  {
   "cell_type": "code",
   "execution_count": 1,
   "metadata": {},
   "outputs": [],
   "source": [
    "from scipy import misc\n",
    "import matplotlib.pyplot as plt\n",
    "\n",
    "def split_into_fixed_kernels(imagefile, train_sample_size=32):\n",
    "    img = misc.imread(imagefile)\n",
    "    width = img.shape[0]\n",
    "    height = img.shape[1]\n",
    "\n",
    "    kernels = []\n",
    "    for i in range(width // train_sample_size):\n",
    "        for j in range(height // train_sample_size):\n",
    "            x = i * train_sample_size\n",
    "            y = j * train_sample_size\n",
    "            kernels.append(img[x:x + train_sample_size, y:y + train_sample_size, 0:4])\n",
    "    return kernels\n",
    "\n"
   ]
  },
  {
   "cell_type": "code",
   "execution_count": 2,
   "metadata": {},
   "outputs": [
    {
     "name": "stderr",
     "output_type": "stream",
     "text": [
      "/Users/phaser/Programe/anaconda/envs/HandsOnML/lib/python3.6/site-packages/ipykernel_launcher.py:5: DeprecationWarning: `imread` is deprecated!\n",
      "`imread` is deprecated in SciPy 1.0.0, and will be removed in 1.2.0.\n",
      "Use ``imageio.imread`` instead.\n",
      "  \"\"\"\n"
     ]
    }
   ],
   "source": [
    "before_kernels = split_into_fixed_kernels('imgs/christmas_1_b.png')\n",
    "after_kernels = split_into_fixed_kernels('imgs/christmas_1_a.png')"
   ]
  },
  {
   "cell_type": "code",
   "execution_count": 3,
   "metadata": {},
   "outputs": [],
   "source": [
    "import numpy as np\n",
    "import pandas as pd \n",
    "\n",
    "def dump_img_dataset(kernels, component, filename):\n",
    "    to_be_written = []\n",
    "    for i in range(len(kernels)):\n",
    "        to_be_written.append(kernels[i][0:32, 0:32, component:component+1].flatten())\n",
    "    \n",
    "    df = pd.DataFrame(to_be_written)\n",
    "    df.to_csv(filename + \"_\" + str(component) + \".csv\", index=False)\n",
    "\n",
    "dump_img_dataset(before_kernels, 0, 'before_pathtraced_image')\n",
    "dump_img_dataset(before_kernels, 1, 'before_pathtraced_image')\n",
    "dump_img_dataset(before_kernels, 2, 'before_pathtraced_image')\n",
    "\n",
    "dump_img_dataset(after_kernels, 0, 'after_pathtraced_image')\n",
    "dump_img_dataset(after_kernels, 1, 'after_pathtraced_image')\n",
    "dump_img_dataset(after_kernels, 2, 'after_pathtraced_image')\n"
   ]
  },
  {
   "cell_type": "code",
   "execution_count": 4,
   "metadata": {},
   "outputs": [],
   "source": [
    "import numpy as np\n",
    "import pandas as pd\n",
    "\n",
    "X_train = pd.read_csv('before_pathtraced_image_0.csv').as_matrix()\n",
    "y_train = pd.read_csv('after_pathtraced_image_0.csv').as_matrix()"
   ]
  },
  {
   "cell_type": "code",
   "execution_count": null,
   "metadata": {},
   "outputs": [
    {
     "name": "stderr",
     "output_type": "stream",
     "text": [
      "/Users/phaser/Programe/anaconda/envs/HandsOnML/lib/python3.6/importlib/_bootstrap.py:219: RuntimeWarning: compiletime version 3.5 of module 'tensorflow.python.framework.fast_tensor_util' does not match runtime version 3.6\n",
      "  return f(*args, **kwds)\n"
     ]
    }
   ],
   "source": [
    "import tensorflow as tf\n",
    "import numpy as np\n",
    "\n",
    "n_inputs = 32*32\n",
    "n_hidden1 = 512\n",
    "n_outputs = 32*32\n",
    "\n",
    "X = tf.placeholder(tf.float32, shape=(None, n_inputs), name=\"X\")\n",
    "y = tf.placeholder(tf.float32, shape=(None, n_outputs), name=\"y\")\n",
    "\n",
    "def neuron_layer(X, n_neurons, name, activation=None):\n",
    "    with tf.name_scope(name):\n",
    "        n_inputs = int(X.get_shape()[1])\n",
    "        stddev = 2 / np.sqrt(n_inputs + n_neurons)\n",
    "        init = tf.truncated_normal((n_inputs, n_neurons), stddev=stddev)\n",
    "        W = tf.Variable(init, name=\"kernel\")\n",
    "        b = tf.Variable(tf.zeros([n_neurons]), name=\"bias\")\n",
    "        Z = tf.matmul(X, W) + b\n",
    "        if activation is not None:\n",
    "            return activation(Z)\n",
    "        else:\n",
    "            return Z\n",
    "        \n",
    "with tf.name_scope(\"dnn\"):\n",
    "    hidden1 = neuron_layer(X, n_hidden1, name=\"hidden1\", activation=tf.nn.relu)\n",
    "    logits = neuron_layer(hidden1, n_outputs, name=\"outputs\")\n",
    "    \n",
    "with tf.name_scope(\"loss\"):\n",
    "    loss = tf.losses.absolute_difference(labels=y, predictions=logits)\n",
    "    \n",
    "learning_rate = 0.01\n",
    "with tf.name_scope(\"train\"):\n",
    "    optimizer = tf.train.GradientDescentOptimizer(learning_rate)\n",
    "    training_op = optimizer.minimize(loss)\n",
    "    \n",
    "with tf.name_scope(\"eval\"):\n",
    "    correct = tf.equal(logits, y)\n",
    "    accuracy = tf.reduce_mean(tf.cast(correct, tf.float32))\n",
    "    \n",
    "init = tf.global_variables_initializer()\n",
    "saver = tf.train.Saver()"
   ]
  },
  {
   "cell_type": "code",
   "execution_count": null,
   "metadata": {},
   "outputs": [
    {
     "name": "stdout",
     "output_type": "stream",
     "text": [
      "test\n"
     ]
    }
   ],
   "source": [
    "n_epochs = 40\n",
    "batch_size = 50\n",
    "print(\"test\")\n",
    "with tf.Session() as sess:\n",
    "    init.run()\n",
    "    print(\"Started...\")\n",
    "    for epoch in range(n_epochs):\n",
    "        sess.run(training_op, feed_dict={X:X_train, y:y_train})\n",
    "        acc_train = accuracy.eval(feed_dict={X:X_train, y:y_train})\n",
    "        print(epoch, \"Train accuracy:\", acc_train)\n",
    "    save_path = saver.save(sess, \"./my_model_final.ckpt\")"
   ]
  },
  {
   "cell_type": "code",
   "execution_count": null,
   "metadata": {},
   "outputs": [],
   "source": []
  }
 ],
 "metadata": {
  "kernelspec": {
   "display_name": "Python (HandsOnML)",
   "language": "python",
   "name": "handsonml"
  },
  "language_info": {
   "codemirror_mode": {
    "name": "ipython",
    "version": 3
   },
   "file_extension": ".py",
   "mimetype": "text/x-python",
   "name": "python",
   "nbconvert_exporter": "python",
   "pygments_lexer": "ipython3",
   "version": "3.6.4"
  }
 },
 "nbformat": 4,
 "nbformat_minor": 2
}
